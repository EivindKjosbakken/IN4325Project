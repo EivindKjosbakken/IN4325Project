{
 "cells": [
  {
   "cell_type": "code",
   "execution_count": 1,
   "metadata": {},
   "outputs": [],
   "source": [
    "#imports\n",
    "import pandas as pd\n",
    "import numpy as np\n",
    "import numpy as np\n",
    "from nltk.tokenize import  word_tokenize \n",
    "from tqdm import tqdm\n",
    "from sklearn.feature_extraction.text import TfidfVectorizer\n",
    "from collections import Counter"
   ]
  },
  {
   "cell_type": "code",
   "execution_count": 2,
   "metadata": {},
   "outputs": [],
   "source": [
    "#read data inn\n",
    "\n",
    "dfInventory = pd.read_excel(\"../data/inventory.xlsx\")\n",
    "dfRepo1 = pd.read_csv(\"../data/tudelft_repository_1679269258.csv\")\n",
    "dfRepo2 = pd.read_csv(\"../data/tudelft_repository_1679269271.csv\")\n",
    "dfRepo3 = pd.read_csv(\"../data/tudelft_repository_1679269276.csv\")\n",
    "dfRepo4 = pd.read_csv(\"../data/tudelft_repository_1679269281.csv\")\n",
    "dfRepo5 = pd.read_csv(\"../data/tudelft_repository_1679269287.csv\")\n",
    "dfRepo6 = pd.read_csv(\"../data/tudelft_repository_1679269292.csv\")\n"
   ]
  },
  {
   "cell_type": "code",
   "execution_count": 3,
   "metadata": {},
   "outputs": [],
   "source": [
    "dfRepo = pd.concat([dfRepo1, dfRepo2, dfRepo3, dfRepo4, dfRepo5, dfRepo6])\n",
    "dfWithAbstract = dfRepo.dropna(subset=[\"abstract\"]) #elements without abstract"
   ]
  },
  {
   "cell_type": "code",
   "execution_count": 4,
   "metadata": {},
   "outputs": [
    {
     "data": {
      "text/plain": [
       "Counter({'Electrical Engineering, Mathematics and Computer Science': 363,\n",
       "         'Aerospace Engineering': 88,\n",
       "         'Mechanical, Maritime and Materials Engineering': 1640,\n",
       "         'Applied Sciences': 107,\n",
       "         'Architecture and The Built Environment': 259,\n",
       "         'Technology, Policy and Management': 142,\n",
       "         'Civil Engineering and Geosciences': 247,\n",
       "         'Industrial Design Engineering': 37,\n",
       "         'Architecture and the Built Environment': 4,\n",
       "         'Reactor Instituut Delft': 1,\n",
       "         'OTB Research Institute for the Built Environment': 585,\n",
       "         'Delft University of Technology': 246,\n",
       "         'Architecture': 373,\n",
       "         'OTB Research Institute': 42,\n",
       "         'Civil Engineering & Geosciences': 8,\n",
       "         'QuTech': 5,\n",
       "         'OTB': 44})"
      ]
     },
     "execution_count": 4,
     "metadata": {},
     "output_type": "execute_result"
    }
   ],
   "source": [
    "testDf = dfRepo.dropna(subset=[\"faculty\"])[\"faculty\"].to_numpy() #elements without abstract\n",
    "from collections import Counter\n",
    "\n",
    "a = (Counter(testDf))\n",
    "a"
   ]
  },
  {
   "cell_type": "code",
   "execution_count": 5,
   "metadata": {},
   "outputs": [
    {
     "data": {
      "text/plain": [
       "Index(['uuid', 'repository link', 'title', 'author', 'contributor',\n",
       "       'publication year', 'abstract', 'subject topic', 'language',\n",
       "       'publication type', 'publisher', 'isbn', 'issn', 'patent',\n",
       "       'patent status', 'bibliographic note', 'access restriction',\n",
       "       'embargo date', 'faculty', 'department', 'research group', 'programme',\n",
       "       'project', 'coordinates'],\n",
       "      dtype='object')"
      ]
     },
     "execution_count": 5,
     "metadata": {},
     "output_type": "execute_result"
    }
   ],
   "source": [
    "dfWithAbstract.columns\n"
   ]
  }
 ],
 "metadata": {
  "kernelspec": {
   "display_name": "venv",
   "language": "python",
   "name": "python3"
  },
  "language_info": {
   "codemirror_mode": {
    "name": "ipython",
    "version": 3
   },
   "file_extension": ".py",
   "mimetype": "text/x-python",
   "name": "python",
   "nbconvert_exporter": "python",
   "pygments_lexer": "ipython3",
   "version": "3.10.4"
  },
  "orig_nbformat": 4
 },
 "nbformat": 4,
 "nbformat_minor": 2
}
