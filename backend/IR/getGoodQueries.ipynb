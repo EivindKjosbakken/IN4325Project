{
 "cells": [
  {
   "cell_type": "code",
   "execution_count": 1,
   "metadata": {},
   "outputs": [],
   "source": [
    "from thefuzz import fuzz\n",
    "from thefuzz import process\n",
    "import time\n",
    "import pandas as pd\n",
    "import numpy as np\n",
    "\n"
   ]
  },
  {
   "cell_type": "code",
   "execution_count": 2,
   "metadata": {},
   "outputs": [
    {
     "name": "stderr",
     "output_type": "stream",
     "text": [
      "c:\\Users\\eivin\\Documents\\Delft\\Q3\\IN4325\\IN4325Project\\venv\\lib\\site-packages\\openpyxl\\styles\\stylesheet.py:226: UserWarning: Workbook contains no default style, apply openpyxl's default\n",
      "  warn(\"Workbook contains no default style, apply openpyxl's default\")\n",
      "c:\\Users\\eivin\\Documents\\Delft\\Q3\\IN4325\\IN4325Project\\venv\\lib\\site-packages\\openpyxl\\styles\\stylesheet.py:226: UserWarning: Workbook contains no default style, apply openpyxl's default\n",
      "  warn(\"Workbook contains no default style, apply openpyxl's default\")\n"
     ]
    }
   ],
   "source": [
    "dfQueryLogs = pd.read_excel(\"../../data/Analytics_repository.tudelft.nl_Search_Terms_20220101-20221231.xlsx\", sheet_name=\"Dataset1\")\n",
    "dfQueryLogs = dfQueryLogs.replace(np.nan, '', regex=True)\n",
    "\n",
    "dfQueryLogs2 = pd.read_excel(\"../../data/Analytics_Alle_websitegegevens_Search_Terms_20220101-20221231.xlsx\", sheet_name=\"Dataset1\")\n",
    "dfQueryLogs2 = dfQueryLogs2.replace(np.nan, '', regex=True)\n",
    "\n"
   ]
  },
  {
   "cell_type": "code",
   "execution_count": 6,
   "metadata": {},
   "outputs": [],
   "source": [
    "#find the \"good\" query logs, defined by: Time after Search > 30 and search refinement < 75 and search exits < 75\n",
    "dfQueryLogs.columns\n",
    "\n",
    "dfGoodQueries = dfQueryLogs.loc[(dfQueryLogs[\"Time after Search\"].astype(int) > 60) & \n",
    "                                (dfQueryLogs[\"% Search Refinements\"].astype(int) < 25) & \n",
    "                                (dfQueryLogs[\"% Search Exits\"].astype(int) < 25), :]\n",
    "\n",
    "dfGoodQueries2 = dfQueryLogs2.loc[(dfQueryLogs2[\"Time after Search\"].astype(int) > 30) & \n",
    "                                (dfQueryLogs2[\"% Search Refinements\"].astype(int) < 75) & \n",
    "                                (dfQueryLogs2[\"% Search Exits\"].astype(int) < 75), :]\n",
    "\n",
    "\n"
   ]
  },
  {
   "cell_type": "code",
   "execution_count": 7,
   "metadata": {},
   "outputs": [],
   "source": [
    "goodQueries = np.concatenate((dfGoodQueries[\"Search Term\"].to_numpy(),dfGoodQueries2[\"Search Term\"].to_numpy() ))\n",
    "\n",
    "for idx, q in enumerate(goodQueries):\n",
    "    q = (q.split(\":\"))[-1]\n",
    "    q = q.replace(\"'\", \"\").replace('\"', \"\").strip()\n",
    "    # q = runPreprocessing([q])[0]\n",
    "    goodQueries[idx] = q"
   ]
  },
  {
   "cell_type": "code",
   "execution_count": 8,
   "metadata": {},
   "outputs": [],
   "source": [
    "toUse = []\n",
    "import random\n",
    "\n",
    "    \n",
    "ele = random.sample(list(goodQueries), 40)\n",
    "f = open(\"queriesToRun.txt\", \"w\")\n",
    "for e in ele:\n",
    "\tf.write(e+\"\\n\")\n",
    "\n",
    "f.close()\n",
    "    \n"
   ]
  },
  {
   "cell_type": "code",
   "execution_count": null,
   "metadata": {},
   "outputs": [],
   "source": []
  }
 ],
 "metadata": {
  "kernelspec": {
   "display_name": "venv",
   "language": "python",
   "name": "python3"
  },
  "language_info": {
   "codemirror_mode": {
    "name": "ipython",
    "version": 3
   },
   "file_extension": ".py",
   "mimetype": "text/x-python",
   "name": "python",
   "nbconvert_exporter": "python",
   "pygments_lexer": "ipython3",
   "version": "3.10.4"
  },
  "orig_nbformat": 4
 },
 "nbformat": 4,
 "nbformat_minor": 2
}
